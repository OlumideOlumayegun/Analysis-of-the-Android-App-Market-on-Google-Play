{
 "cells": [
  {
   "cell_type": "markdown",
   "metadata": {},
   "source": [
    "# Analysis of the Android App Market on Google Play"
   ]
  },
  {
   "cell_type": "markdown",
   "metadata": {},
   "source": [
    "---\n",
    "![alt Google Play Logo](images/google_play_store.webp)"
   ]
  },
  {
   "cell_type": "markdown",
   "metadata": {},
   "source": [
    "---"
   ]
  },
  {
   "cell_type": "markdown",
   "metadata": {},
   "source": [
    "## Table of Contents\n",
    "- Overview\n",
    "- Dataset \n",
    "- Data Cleaning\n",
    "- Correcting Data Types\n",
    "- Exploring App Categories\n",
    "- Exploring Distribution of App Ratings\n",
    "- Relation Between Size and Price of an App\n",
    "- Relation Between App Category and App Price\n",
    "- Filtering out \"junk\" Apps \n",
    "- Popularity of Paid Apps vs Free Apps\n",
    "- Sentiment Analysis of Users Reviews\n",
    "- Conclusions\n",
    "- Growth and Next Steps\n",
    "- Acknowledgement \n",
    "---\n"
   ]
  },
  {
   "cell_type": "markdown",
   "metadata": {},
   "source": [
    "## Overview \n",
    "Mobile apps are an integral part of modern life, offering a wide range of functionalities from entertainment to productivity. With the ease of app development and the potential for significant financial returns, the mobile app market continues to expand rapidly. As a result, more apps are being developed every day, contributing to a highly competitive and dynamic ecosystem.\n",
    "\n",
    "In this notebook, we will perform a comprehensive analysis of the Android app market by examining data from over ten thousand apps available on the Google Play Store. By exploring key metrics across various app categories, we aim to uncover valuable insights that can inform strategies for app growth and user retention.\n",
    "\n",
    "Our analysis will address the following key questions:\n",
    "- What are the most popular app categories?\n",
    "- How do user ratings and reviews vary across different types of apps?\n",
    "- What pricing models (free vs. paid) are most prevalent, and how do they impact app success?\n",
    "- Are there patterns in app size, update frequency, or installation numbers that correlate with app performance?\n",
    "\n",
    "Through data visualisation and exploration, this notebook seeks to provide actionable insights for app developers, marketers, and stakeholders in the Android app ecosystem.\n",
    "\n",
    "---\n",
    "\n"
   ]
  },
  {
   "cell_type": "markdown",
   "metadata": {},
   "source": [
    "## Dataset \n",
    "For this analysis, we will use data from two files that provide comprehensive information about Android apps and user reviews on the Google Play Store:\n",
    "\n",
    "### 1. `apps.csv`\n",
    "This file contains detailed information about various applications available on Google Play. It includes **13 features** that describe each app, such as:\n",
    "\n",
    "- **App Name**: The name of the application.\n",
    "- **Category**: The category to which the app belongs (e.g., Games, Productivity).\n",
    "- **Rating**: Average user rating (out of 5).\n",
    "- **Reviews**: Number of user reviews.\n",
    "- **Installs**: Total number of installations.\n",
    "- **Size**: Size of the app file.\n",
    "- **Price**: Cost of the app (free or paid).\n",
    "- **Last Updated**: Date of the last update.\n",
    "- **Content Rating**: Age group for which the app is suitable.\n",
    "- **Genres**: App genres.\n",
    "- **Current Version**: The app's current version.\n",
    "- **Android Version**: Minimum Android version required to run the app.\n",
    "\n",
    "### 2. `user_reviews.csv`\n",
    "This file contains up to **100 user reviews per app**, focusing on the most helpful reviews. In addition to the review text, the data includes three key features:\n",
    "\n",
    "- **Sentiment**: Indicates whether the review is Positive, Negative, or Neutral.\n",
    "- **Sentiment Polarity**: A numerical value ranging from -1 (most negative) to +1 (most positive), representing the emotional tone of the review.\n",
    "- **Sentiment Subjectivity**: A score between 0 and 1 indicating how subjective or opinion-based the review is (higher values suggest greater subjectivity).\n",
    "\n",
    "These datasets together provide a rich source of information for understanding app performance, user satisfaction, and market trends. We will use them to explore patterns, draw insights, and develop strategies for improving app growth and user engagement.\n",
    "\n",
    "---\n"
   ]
  }
 ],
 "metadata": {
  "language_info": {
   "name": "python"
  }
 },
 "nbformat": 4,
 "nbformat_minor": 2
}
